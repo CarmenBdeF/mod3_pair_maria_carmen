{
 "cells": [
  {
   "cell_type": "code",
   "execution_count": 1,
   "id": "b3a923f7",
   "metadata": {},
   "outputs": [],
   "source": [
    "#Crea un array 1D con 50 valores aleatorio del 10 al 99. Accede a los elementos en las posiciones múltiplos de 5."
   ]
  },
  {
   "cell_type": "code",
   "execution_count": 5,
   "id": "947f9c8b",
   "metadata": {},
   "outputs": [],
   "source": [
    "import numpy as np"
   ]
  },
  {
   "cell_type": "code",
   "execution_count": 13,
   "id": "e949cddd",
   "metadata": {},
   "outputs": [
    {
     "name": "stdout",
     "output_type": "stream",
     "text": [
      "[10 11 12 13 14 15 16 17 18 19 20 21 22 23 24 25 26 27 28 29 30 31 32 33\n",
      " 34 35 36 37 38 39 40 41 42 43 44 45 46 47 48 49 50 51 52 53 54 55 56 57\n",
      " 58 59 60 61 62 63 64 65 66 67 68 69 70 71 72 73 74 75 76 77 78 79 80 81\n",
      " 82 83 84 85 86 87 88 89 90 91 92 93 94 95 96 97 98 99]\n"
     ]
    }
   ],
   "source": [
    "array1d = np.arange(10,100)\n",
    "\n",
    "print(array1d)"
   ]
  },
  {
   "cell_type": "code",
   "execution_count": 33,
   "id": "f9cd532b",
   "metadata": {},
   "outputs": [],
   "source": [
    "#array1d = np.random.randint(10,100)\n",
    "array1d = np.random.randint(10,100, size=50)"
   ]
  },
  {
   "cell_type": "code",
   "execution_count": 34,
   "id": "ca58c3ed",
   "metadata": {},
   "outputs": [
    {
     "data": {
      "text/plain": [
       "array([98, 51, 23, 29, 71, 15, 76, 68, 80, 29, 95, 98, 77, 61, 81, 23, 19,\n",
       "       48, 87, 38, 36, 13, 15, 73, 77, 39, 57, 65, 20, 19, 73, 72, 62, 24,\n",
       "       16, 55, 76, 60, 28, 81, 47, 63, 10, 10, 70, 74, 83, 33, 67, 62])"
      ]
     },
     "execution_count": 34,
     "metadata": {},
     "output_type": "execute_result"
    }
   ],
   "source": [
    "array1d"
   ]
  },
  {
   "cell_type": "code",
   "execution_count": 2,
   "id": "0823b1f3",
   "metadata": {},
   "outputs": [],
   "source": [
    "#Crea un array 1D con 30 valores aleatorios del 1 al 20 (ambos incluidos). Utiliza indexación para obtener los elementos en las posiciones impares."
   ]
  },
  {
   "cell_type": "code",
   "execution_count": 36,
   "id": "f1fdc06d",
   "metadata": {},
   "outputs": [],
   "source": [
    "array1d2 = np.random.randint(1,20, size=30)"
   ]
  },
  {
   "cell_type": "code",
   "execution_count": 37,
   "id": "7876767d",
   "metadata": {},
   "outputs": [
    {
     "data": {
      "text/plain": [
       "array([14,  7, 16,  8,  2,  5, 16, 15, 18, 11,  3, 16,  6, 13, 11, 13, 11,\n",
       "        3,  5,  7, 16,  1,  9,  8, 19, 15,  8, 19, 11,  2])"
      ]
     },
     "execution_count": 37,
     "metadata": {},
     "output_type": "execute_result"
    }
   ],
   "source": [
    "array1d2"
   ]
  },
  {
   "cell_type": "code",
   "execution_count": 39,
   "id": "a18b02f8",
   "metadata": {},
   "outputs": [
    {
     "data": {
      "text/plain": [
       "array([14, 16,  2, 16, 18,  3,  6, 11, 11,  5, 16,  9, 19,  8, 11])"
      ]
     },
     "execution_count": 39,
     "metadata": {},
     "output_type": "execute_result"
    }
   ],
   "source": [
    "array1d2[0::2]"
   ]
  },
  {
   "cell_type": "code",
   "execution_count": null,
   "id": "31c32830",
   "metadata": {},
   "outputs": [],
   "source": [
    "#Crea un array 2D de forma (4, 6) con números aleatorios decimales (no deben estar comprendidos solo entre 0 y 1). Accede a la última fila de la matriz. Los decimales deben estar redondeados a 2 decimales."
   ]
  },
  {
   "cell_type": "code",
   "execution_count": null,
   "id": "46413e4f",
   "metadata": {},
   "outputs": [],
   "source": [
    "array2d = np.random.uniform(-50, 50, (4, 6))"
   ]
  },
  {
   "cell_type": "code",
   "execution_count": 50,
   "id": "85a033c1",
   "metadata": {},
   "outputs": [],
   "source": [
    "array2d = np.round(array2d, 2)"
   ]
  },
  {
   "cell_type": "code",
   "execution_count": 51,
   "id": "d5baf0fc",
   "metadata": {},
   "outputs": [
    {
     "data": {
      "text/plain": [
       "array([[-29.54, -39.18, -16.78,  36.22,  32.43,  24.13],\n",
       "       [-34.97, -15.89, -25.07,  47.03, -34.18, -23.79],\n",
       "       [  7.85,  32.25, -40.8 , -20.91, -44.44, -44.37],\n",
       "       [  4.73, -40.82,  38.86, -46.01,  16.32,  28.43]])"
      ]
     },
     "execution_count": 51,
     "metadata": {},
     "output_type": "execute_result"
    }
   ],
   "source": [
    "array2d"
   ]
  },
  {
   "cell_type": "code",
   "execution_count": null,
   "id": "93711eaa",
   "metadata": {},
   "outputs": [],
   "source": [
    "#Crea un array de tres 3D con elementos entre el 0 y 1 de forma (2, 3, 5) cuyos valores solo tengan 1 decimal."
   ]
  },
  {
   "cell_type": "code",
   "execution_count": 69,
   "id": "9477db4c",
   "metadata": {},
   "outputs": [],
   "source": [
    "# no tira - array3d = np.arange((0.0,1.0),(2,3,5))\n",
    "array3d = np.random.rand(2, 3, 5)\n",
    "array3d = np.round(array3d, 1)\n",
    "\n"
   ]
  },
  {
   "cell_type": "code",
   "execution_count": 70,
   "id": "9ae3719e",
   "metadata": {},
   "outputs": [
    {
     "data": {
      "text/plain": [
       "array([[[0.5, 0.8, 0.2, 0.1, 0.4],\n",
       "        [0.2, 0.7, 0.4, 0.1, 0.6],\n",
       "        [0.9, 0.6, 0.6, 0.7, 0.4]],\n",
       "\n",
       "       [[0.7, 0.9, 0.2, 0.1, 0.7],\n",
       "        [0.3, 0.5, 0.8, 0.8, 0.9],\n",
       "        [0.2, 0.3, 0.9, 0.5, 0.3]]])"
      ]
     },
     "execution_count": 70,
     "metadata": {},
     "output_type": "execute_result"
    }
   ],
   "source": [
    "array3d"
   ]
  },
  {
   "cell_type": "markdown",
   "id": "26f3658c",
   "metadata": {},
   "source": [
    "Crea un array vacío con la misma forma y dimensiones que el array creado anteriormente. Vamos a reemplazar los valores de la matriz vacía que nos acabamos de crear pero basándonos en los valores del primer array bajo las siguientes condiciones:\n",
    "\n",
    "Si el valor del array es igual que la media, se reemplaza por \"A\".\n",
    "\n",
    "Si el valor del array es mayor que la media, se reemplaza por \"B\".\n",
    "\n",
    "Si el valor del array es menor que la media, se reemplaza por \"C\".\n",
    "\n",
    "Si el valor es igual que el máximo, se reemplaza por \"D\".\n",
    "\n",
    "Si el valor es igual que el mínimo, se reemplaza por \"E\"."
   ]
  },
  {
   "cell_type": "code",
   "execution_count": 71,
   "id": "4ad973f3",
   "metadata": {},
   "outputs": [],
   "source": [
    "array_vacio_tridimensional =  np.empty((2, 3, 5)) #array vacio"
   ]
  },
  {
   "cell_type": "code",
   "execution_count": 72,
   "id": "1b402ef2",
   "metadata": {},
   "outputs": [
    {
     "data": {
      "text/plain": [
       "array([[[0.5, 0.8, 0.2, 0.1, 0.4],\n",
       "        [0.2, 0.7, 0.4, 0.1, 0.6],\n",
       "        [0.9, 0.6, 0.6, 0.7, 0.4]],\n",
       "\n",
       "       [[0.7, 0.9, 0.2, 0.1, 0.7],\n",
       "        [0.3, 0.5, 0.8, 0.8, 0.9],\n",
       "        [0.2, 0.3, 0.9, 0.5, 0.3]]])"
      ]
     },
     "execution_count": 72,
     "metadata": {},
     "output_type": "execute_result"
    }
   ],
   "source": [
    "array_vacio_tridimensional"
   ]
  },
  {
   "cell_type": "code",
   "execution_count": null,
   "id": "54838613",
   "metadata": {},
   "outputs": [],
   "source": [
    "#Si el valor del array es igual que la media, se reemplaza por \"A\"."
   ]
  },
  {
   "cell_type": "code",
   "execution_count": 76,
   "id": "588df56f",
   "metadata": {},
   "outputs": [],
   "source": [
    "#np.where(array_vacio_tridimensional = np.mean(array_vacio_tridimensional), \"A\")\n",
    "\n",
    "media_total = np.mean(array_vacio_tridimensional)"
   ]
  },
  {
   "cell_type": "code",
   "execution_count": 77,
   "id": "9c8b8d07",
   "metadata": {},
   "outputs": [
    {
     "data": {
      "text/plain": [
       "0.51"
      ]
     },
     "execution_count": 77,
     "metadata": {},
     "output_type": "execute_result"
    }
   ],
   "source": [
    "media_total"
   ]
  },
  {
   "cell_type": "code",
   "execution_count": 83,
   "id": "4de6a912",
   "metadata": {},
   "outputs": [],
   "source": [
    "media_total=0.5"
   ]
  },
  {
   "cell_type": "code",
   "execution_count": 84,
   "id": "e0d764f7",
   "metadata": {},
   "outputs": [
    {
     "data": {
      "text/plain": [
       "array([[['A', '0.8', '0.2', '0.1', '0.4'],\n",
       "        ['0.2', '0.7', '0.4', '0.1', '0.6'],\n",
       "        ['0.9', '0.6', '0.6', '0.7', '0.4']],\n",
       "\n",
       "       [['0.7', '0.9', '0.2', '0.1', '0.7'],\n",
       "        ['0.3', 'A', '0.8', '0.8', '0.9'],\n",
       "        ['0.2', '0.3', '0.9', 'A', '0.3']]], dtype='<U32')"
      ]
     },
     "execution_count": 84,
     "metadata": {},
     "output_type": "execute_result"
    }
   ],
   "source": [
    "np.where((array_vacio_tridimensional == media_total), \"A\", array_vacio_tridimensional)"
   ]
  },
  {
   "cell_type": "code",
   "execution_count": null,
   "id": "acc4d1fd",
   "metadata": {},
   "outputs": [],
   "source": [
    "#Si el valor del array es mayor que la media, se reemplaza por \"B\"."
   ]
  },
  {
   "cell_type": "code",
   "execution_count": 85,
   "id": "8e08cdd9",
   "metadata": {},
   "outputs": [
    {
     "data": {
      "text/plain": [
       "array([[['0.5', 'B', '0.2', '0.1', '0.4'],\n",
       "        ['0.2', 'B', '0.4', '0.1', 'B'],\n",
       "        ['B', 'B', 'B', 'B', '0.4']],\n",
       "\n",
       "       [['B', 'B', '0.2', '0.1', 'B'],\n",
       "        ['0.3', '0.5', 'B', 'B', 'B'],\n",
       "        ['0.2', '0.3', 'B', '0.5', '0.3']]], dtype='<U32')"
      ]
     },
     "execution_count": 85,
     "metadata": {},
     "output_type": "execute_result"
    }
   ],
   "source": [
    "np.where((array_vacio_tridimensional > media_total), \"B\", array_vacio_tridimensional)"
   ]
  },
  {
   "cell_type": "code",
   "execution_count": 86,
   "id": "0f95ffd4",
   "metadata": {},
   "outputs": [
    {
     "data": {
      "text/plain": [
       "array([[['0.5', '0.8', 'C', 'C', 'C'],\n",
       "        ['C', '0.7', 'C', 'C', '0.6'],\n",
       "        ['0.9', '0.6', '0.6', '0.7', 'C']],\n",
       "\n",
       "       [['0.7', '0.9', 'C', 'C', '0.7'],\n",
       "        ['C', '0.5', '0.8', '0.8', '0.9'],\n",
       "        ['C', 'C', '0.9', '0.5', 'C']]], dtype='<U32')"
      ]
     },
     "execution_count": 86,
     "metadata": {},
     "output_type": "execute_result"
    }
   ],
   "source": [
    "#Si el valor del array es menor que la media, se reemplaza por \"C\".\n",
    "np.where((array_vacio_tridimensional < media_total), \"C\", array_vacio_tridimensional)"
   ]
  },
  {
   "cell_type": "code",
   "execution_count": 91,
   "id": "7336ed5b",
   "metadata": {},
   "outputs": [],
   "source": [
    "maximo = np.max(array_vacio_tridimensional)"
   ]
  },
  {
   "cell_type": "code",
   "execution_count": 94,
   "id": "44a6c8fd",
   "metadata": {},
   "outputs": [
    {
     "name": "stdout",
     "output_type": "stream",
     "text": [
      "0.9\n"
     ]
    }
   ],
   "source": [
    "print(maximo)"
   ]
  },
  {
   "cell_type": "code",
   "execution_count": 93,
   "id": "3df7047e",
   "metadata": {},
   "outputs": [
    {
     "data": {
      "text/plain": [
       "array([[['0.5', '0.8', '0.2', '0.1', '0.4'],\n",
       "        ['0.2', '0.7', '0.4', '0.1', '0.6'],\n",
       "        ['D', '0.6', '0.6', '0.7', '0.4']],\n",
       "\n",
       "       [['0.7', 'D', '0.2', '0.1', '0.7'],\n",
       "        ['0.3', '0.5', '0.8', '0.8', 'D'],\n",
       "        ['0.2', '0.3', 'D', '0.5', '0.3']]], dtype='<U32')"
      ]
     },
     "execution_count": 93,
     "metadata": {},
     "output_type": "execute_result"
    }
   ],
   "source": [
    "#Si el valor es igual que el máximo, se reemplaza por \"D\".\n",
    "np.where((array_vacio_tridimensional == maximo), \"D\", array_vacio_tridimensional)"
   ]
  },
  {
   "cell_type": "code",
   "execution_count": null,
   "id": "f3379d64",
   "metadata": {},
   "outputs": [],
   "source": [
    "#Si el valor es igual que el mínimo, se reemplaza por \"E\"."
   ]
  },
  {
   "cell_type": "code",
   "execution_count": 95,
   "id": "4396eaa8",
   "metadata": {},
   "outputs": [],
   "source": [
    "minimo = np.min(array_vacio_tridimensional)"
   ]
  },
  {
   "cell_type": "code",
   "execution_count": 96,
   "id": "24b0a5a8",
   "metadata": {},
   "outputs": [
    {
     "name": "stdout",
     "output_type": "stream",
     "text": [
      "0.1\n"
     ]
    }
   ],
   "source": [
    "print(minimo)"
   ]
  },
  {
   "cell_type": "code",
   "execution_count": 97,
   "id": "60063435",
   "metadata": {},
   "outputs": [
    {
     "data": {
      "text/plain": [
       "array([[['0.5', '0.8', '0.2', 'E', '0.4'],\n",
       "        ['0.2', '0.7', '0.4', 'E', '0.6'],\n",
       "        ['0.9', '0.6', '0.6', '0.7', '0.4']],\n",
       "\n",
       "       [['0.7', '0.9', '0.2', 'E', '0.7'],\n",
       "        ['0.3', '0.5', '0.8', '0.8', '0.9'],\n",
       "        ['0.2', '0.3', '0.9', '0.5', '0.3']]], dtype='<U32')"
      ]
     },
     "execution_count": 97,
     "metadata": {},
     "output_type": "execute_result"
    }
   ],
   "source": [
    "np.where((array_vacio_tridimensional == minimo), \"E\", array_vacio_tridimensional)"
   ]
  },
  {
   "cell_type": "code",
   "execution_count": 101,
   "id": "a9090aff",
   "metadata": {},
   "outputs": [
    {
     "ename": "SyntaxError",
     "evalue": "invalid syntax (566717968.py, line 1)",
     "output_type": "error",
     "traceback": [
      "\u001b[1;36m  Cell \u001b[1;32mIn[101], line 1\u001b[1;36m\u001b[0m\n\u001b[1;33m    np.where((array_vacio_tridimensional == media_total), \"A\", array_vacio_tridimensional) and\u001b[0m\n\u001b[1;37m                                                                                              ^\u001b[0m\n\u001b[1;31mSyntaxError\u001b[0m\u001b[1;31m:\u001b[0m invalid syntax\n"
     ]
    }
   ],
   "source": [
    "np.where((array_vacio_tridimensional == media_total), \"A\", array_vacio_tridimensional) and\n",
    "np.where((array_vacio_tridimensional > media_total), \"B\", array_vacio_tridimensional)"
   ]
  }
 ],
 "metadata": {
  "kernelspec": {
   "display_name": "base",
   "language": "python",
   "name": "python3"
  },
  "language_info": {
   "codemirror_mode": {
    "name": "ipython",
    "version": 3
   },
   "file_extension": ".py",
   "mimetype": "text/x-python",
   "name": "python",
   "nbconvert_exporter": "python",
   "pygments_lexer": "ipython3",
   "version": "3.12.7"
  }
 },
 "nbformat": 4,
 "nbformat_minor": 5
}
